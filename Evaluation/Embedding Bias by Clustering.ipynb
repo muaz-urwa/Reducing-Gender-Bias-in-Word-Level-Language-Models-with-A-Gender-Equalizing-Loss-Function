{
 "cells": [
  {
   "cell_type": "code",
   "execution_count": 1,
   "metadata": {},
   "outputs": [],
   "source": [
    "import time\n",
    "import math\n",
    "import os\n",
    "import torch\n",
    "import torch.nn as nn\n",
    "import torch.onnx\n",
    "import numpy as np\n",
    "\n",
    "import preprocess\n",
    "import pandas as pd\n",
    "\n",
    "import data_v3\n",
    "\n",
    "\n",
    "from sklearn.decomposition import PCA\n",
    "import model as modelScript\n",
    "import pickle\n",
    "import json\n",
    "\n",
    "import matplotlib.pyplot as plt\n",
    "%matplotlib inline"
   ]
  },
  {
   "cell_type": "code",
   "execution_count": 2,
   "metadata": {},
   "outputs": [],
   "source": [
    "from sklearn import metrics\n",
    "from sklearn.cluster import KMeans"
   ]
  },
  {
   "cell_type": "code",
   "execution_count": 3,
   "metadata": {},
   "outputs": [],
   "source": [
    "def load_doc(filename):\n",
    "    file = open(filename, 'r', encoding='utf-8-sig')\n",
    "    text = file.read()\n",
    "    file.close()\n",
    "    return text"
   ]
  },
  {
   "cell_type": "code",
   "execution_count": 4,
   "metadata": {},
   "outputs": [],
   "source": [
    "cuda = True\n",
    "seed = 20190328\n",
    "\n",
    "# Set the random seed manually for reproducibility.\n",
    "torch.manual_seed(seed)\n",
    "if torch.cuda.is_available():\n",
    "    if not cuda:\n",
    "        print(\"WARNING: You have a CUDA device, so you should probably run with --cuda\")\n",
    "\n",
    "device = torch.device(\"cuda\" if cuda else \"cpu\")"
   ]
  },
  {
   "cell_type": "code",
   "execution_count": 5,
   "metadata": {},
   "outputs": [],
   "source": [
    "def getParameters(model):\n",
    "    # load vocab & file index  \n",
    "    if 'cda' in model:\n",
    "        path = 'processedDataCda/'\n",
    "        vocab = preprocess.read_vocab(os.path.join('data','VOCAB_cda.txt'))\n",
    "        idx_train = pd.read_json('data/idx_train_cda.json')\n",
    "        idx_val = pd.read_json('data/idx_val_cda.json')\n",
    "        idx_test = pd.read_json('data/idx_test_cda.json')\n",
    "    else:\n",
    "        path = 'processedData/'\n",
    "        vocab = preprocess.read_vocab(os.path.join('data','VOCAB.txt'))\n",
    "        idx_train = pd.read_json('data/idx_train.json')\n",
    "        idx_val = pd.read_json('data/idx_val.json')\n",
    "        idx_test = pd.read_json('data/idx_test.json')\n",
    "            \n",
    "    vocab.append('<eos>')\n",
    "    words2idx = {item : index for index, item in enumerate(vocab)}\n",
    "           \n",
    "    return path, vocab, words2idx, idx_train, idx_val, idx_test"
   ]
  },
  {
   "cell_type": "code",
   "execution_count": 6,
   "metadata": {},
   "outputs": [],
   "source": [
    "def clusterPerformanceEncoder(model,words,labels,verbose = False):\n",
    "    words_labels = [(w,l) for w,l in zip(words,labels) if w in corpus.words2idx ]\n",
    "    words = [w for w,l in words_labels]\n",
    "    labels = [l for w,l in words_labels]\n",
    "    word_indexes = torch.tensor([corpus.words2idx[w] for w in words]).to(device)\n",
    "    vectors = model.encoder(word_indexes)\n",
    "    vectors = vectors.cpu().detach().numpy()\n",
    "    print(vectors.shape)\n",
    "    accuracy = []\n",
    "    for i in range(20):\n",
    "        kmeans = KMeans(n_clusters=2)\n",
    "        kmeans.fit(vectors)\n",
    "        p = sum(kmeans.labels_ == labels)/ len(labels)\n",
    "        accuracy.append(max(p,1-p))\n",
    "    if verbose:\n",
    "        print(list(zip(words,kmeans.labels_)))\n",
    "    return np.mean(accuracy)"
   ]
  },
  {
   "cell_type": "code",
   "execution_count": 7,
   "metadata": {},
   "outputs": [],
   "source": [
    "def clusterPerformanceGlove(glove_vecs,words,labels,verbose = False):\n",
    "    words_labels = [(w,l) for w,l in zip(words,labels) if w in glove_vecs ]\n",
    "    words = [w for w,l in words_labels]\n",
    "    labels = [l for w,l in words_labels]\n",
    "    vectors = [glove_vecs[o] for o in words] \n",
    "    #print(vectors.shape)\n",
    "    accuracy = []\n",
    "    for i in range(20):\n",
    "        kmeans = KMeans(n_clusters=2)\n",
    "        kmeans.fit(vectors)\n",
    "        p = sum(kmeans.labels_ == labels)/ len(labels)\n",
    "        accuracy.append(max(p,1-p))\n",
    "    if verbose:\n",
    "        print(list(zip(words,kmeans.labels_)))\n",
    "    return np.mean(accuracy)"
   ]
  },
  {
   "cell_type": "code",
   "execution_count": 8,
   "metadata": {},
   "outputs": [],
   "source": [
    "femaleFile = '/home/urwa/Documents/Courses/NLU/GBLM/GBLM/Loss Function/gender_words/female_word_file.txt'\n",
    "maleFile = '/home/urwa/Documents/Courses/NLU/GBLM/GBLM/Loss Function/gender_words/male_word_file.txt'\n",
    "\n",
    "def getGenderIdx(femaleFile, maleFile, word2idx):\n",
    "    female_word_list = load_doc(femaleFile).split('\\n')\n",
    "    male_word_list = load_doc(maleFile).split('\\n')\n",
    "    #print(len(female_word_list),len(male_word_list))\n",
    "    pairs = [ (word2idx[f],word2idx[m]) for f,m in zip(female_word_list,male_word_list) \\\n",
    "             if f in word2idx and m in word2idx]\n",
    "    femaleIdx = [ f for f,m in pairs]\n",
    "    maleIdx = [ m for f,m in pairs]\n",
    "    #print(len(femaleIdx),len(maleIdx))\n",
    "    return femaleIdx,maleIdx\n",
    "\n",
    "def getGenderList(femaleFile, maleFile, word2idx):\n",
    "    female_word_list = load_doc(femaleFile).split('\\n')\n",
    "    male_word_list = load_doc(maleFile).split('\\n')\n",
    "    #print(len(female_word_list),len(male_word_list))\n",
    "    pairs = [ (f,m) for f,m in zip(female_word_list,male_word_list) \\\n",
    "             if f in word2idx and m in word2idx]\n",
    "    femaleIdx = [ f for f,m in pairs]\n",
    "    maleIdx = [ m for f,m in pairs]\n",
    "    #print(len(femaleIdx),len(maleIdx))\n",
    "    return femaleIdx,maleIdx"
   ]
  },
  {
   "cell_type": "code",
   "execution_count": 9,
   "metadata": {},
   "outputs": [],
   "source": [
    "import operator\n",
    "def load_glove(glove_file, n_vecs=20000):\n",
    "    \"\"\" \"\"\"\n",
    "    tok2vec = {}\n",
    "    with open(glove_file, 'r') as glove_fh:\n",
    "        for i, row in enumerate(glove_fh):\n",
    "            word, vec = row.split(' ', 1)\n",
    "            tok2vec[word] = np.array([float(n) for n in vec.split(' ')])\n",
    "            #if i >= n_vecs:\n",
    "            #    break\n",
    "    return tok2vec"
   ]
  },
  {
   "cell_type": "code",
   "execution_count": 12,
   "metadata": {},
   "outputs": [
    {
     "data": {
      "text/plain": [
       "105"
      ]
     },
     "execution_count": 12,
     "metadata": {},
     "output_type": "execute_result"
    }
   ],
   "source": [
    "maleBiasWords = load_doc('maleBiasedWords.txt').split('\\n')\n",
    "len(maleBiasWords)"
   ]
  },
  {
   "cell_type": "code",
   "execution_count": 13,
   "metadata": {},
   "outputs": [
    {
     "data": {
      "text/plain": [
       "102"
      ]
     },
     "execution_count": 13,
     "metadata": {},
     "output_type": "execute_result"
    }
   ],
   "source": [
    "femaleBiasWords = load_doc('femaleBiasedWords.txt').split('\\n')\n",
    "len(femaleBiasWords)"
   ]
  },
  {
   "cell_type": "code",
   "execution_count": 14,
   "metadata": {},
   "outputs": [],
   "source": [
    "words = femaleBiasWords + maleBiasWords\n",
    "labels = [0 for w in femaleBiasWords] + [1 for w in maleBiasWords]"
   ]
  },
  {
   "cell_type": "code",
   "execution_count": 15,
   "metadata": {},
   "outputs": [],
   "source": [
    "glove_file = \"gnglove/1b-vectors300-0.8-0.8.txt\"\n",
    "glove_vecs = load_glove(glove_file)"
   ]
  },
  {
   "cell_type": "code",
   "execution_count": 16,
   "metadata": {},
   "outputs": [
    {
     "data": {
      "text/plain": [
       "['reg_0.5.pt',\n",
       " 'lambda_1_cda.pt',\n",
       " 'lambda_0.1.pt',\n",
       " 'lambda_0.5.pt',\n",
       " 'lambda_0.8.pt',\n",
       " 'lambda_1.pt',\n",
       " 'lambda_0.8_cda.pt',\n",
       " 'cda.pt',\n",
       " 'lambda_5.pt',\n",
       " 'lambda_0.1_cda.pt',\n",
       " 'lambda_10.pt',\n",
       " 'reg_0.1.pt',\n",
       " 'lambda_0.01.pt',\n",
       " 'lambda_8.pt',\n",
       " 'lambda_2.pt',\n",
       " 'lambda_0_baseline.pt',\n",
       " 'reg_0.8.pt',\n",
       " 'lambda_0.5_cda.pt',\n",
       " 'glove.pt']"
      ]
     },
     "execution_count": 16,
     "metadata": {},
     "output_type": "execute_result"
    }
   ],
   "source": [
    "modelDir = './models/'\n",
    "modelFiles = [m for m in os.listdir(modelDir) if m.endswith('.pt')]\n",
    "modelFiles"
   ]
  },
  {
   "cell_type": "code",
   "execution_count": 17,
   "metadata": {},
   "outputs": [],
   "source": [
    "modelFiles = ['cda.pt','glove.pt','lambda_0_baseline.pt','lambda_0.01.pt','lambda_0.1.pt','lambda_0.5.pt',\\\n",
    "              'lambda_0.8.pt',\\\n",
    "              'lambda_1.pt','lambda_2.pt','lambda_5.pt','lambda_8.pt','lambda_0.1_cda.pt','lambda_0.8_cda.pt',\\\n",
    "              'lambda_1_cda.pt','reg_0.1.pt','reg_0.5.pt','reg_0.8.pt']"
   ]
  },
  {
   "cell_type": "code",
   "execution_count": 18,
   "metadata": {},
   "outputs": [],
   "source": [
    "modelFiles = ['lambda_0.5_cda.pt','reg_0.1.pt','reg_0.5.pt','reg_0.8.pt']"
   ]
  },
  {
   "cell_type": "code",
   "execution_count": 19,
   "metadata": {},
   "outputs": [],
   "source": [
    "#modelFiles = ['lambda_0','lambda_0.01','lambda_0.1','lambda_0.5','lambda_0.8','lambda_1','lambda_2','lambda_5','cda_lambda_0']\n",
    "embeddings = ['GnGlove'] + modelFiles"
   ]
  },
  {
   "cell_type": "code",
   "execution_count": 20,
   "metadata": {},
   "outputs": [],
   "source": [
    "accuracy = []"
   ]
  },
  {
   "cell_type": "code",
   "execution_count": 21,
   "metadata": {},
   "outputs": [
    {
     "name": "stdout",
     "output_type": "stream",
     "text": [
      "0.798846153846154\n"
     ]
    }
   ],
   "source": [
    "a = clusterPerformanceGlove(glove_vecs,words,labels,verbose = False)\n",
    "print(a)\n",
    "accuracy.append(a)"
   ]
  },
  {
   "cell_type": "code",
   "execution_count": 22,
   "metadata": {
    "scrolled": false
   },
   "outputs": [
    {
     "name": "stdout",
     "output_type": "stream",
     "text": [
      "lambda_0.5_cda.pt\n"
     ]
    },
    {
     "name": "stderr",
     "output_type": "stream",
     "text": [
      "/home/urwa/miniconda3/envs/NLUnew/lib/python3.7/site-packages/torch/serialization.py:435: SourceChangeWarning: source code of class 'model.RNNModel' has changed. you can retrieve the original source code by accessing the object's source attribute or set `torch.nn.Module.dump_patches = True` and use the patch tool to revert the changes.\n",
      "  warnings.warn(msg, SourceChangeWarning)\n"
     ]
    },
    {
     "name": "stdout",
     "output_type": "stream",
     "text": [
      "(207, 300)\n",
      "0.6908212560386474\n",
      "reg_0.1.pt\n"
     ]
    },
    {
     "name": "stderr",
     "output_type": "stream",
     "text": [
      "/home/urwa/miniconda3/envs/NLUnew/lib/python3.7/site-packages/torch/serialization.py:435: SourceChangeWarning: source code of class 'model.RNNModel' has changed. you can retrieve the original source code by accessing the object's source attribute or set `torch.nn.Module.dump_patches = True` and use the patch tool to revert the changes.\n",
      "  warnings.warn(msg, SourceChangeWarning)\n"
     ]
    },
    {
     "ename": "RuntimeError",
     "evalue": "CUDA error: device-side assert triggered",
     "output_type": "error",
     "traceback": [
      "\u001b[0;31m---------------------------------------------------------------------------\u001b[0m",
      "\u001b[0;31mRuntimeError\u001b[0m                              Traceback (most recent call last)",
      "\u001b[0;32m<ipython-input-22-19e0de73c73b>\u001b[0m in \u001b[0;36m<module>\u001b[0;34m\u001b[0m\n\u001b[1;32m      8\u001b[0m         \u001b[0mmodel\u001b[0m \u001b[0;34m=\u001b[0m \u001b[0mtorch\u001b[0m\u001b[0;34m.\u001b[0m\u001b[0mload\u001b[0m\u001b[0;34m(\u001b[0m\u001b[0mf\u001b[0m\u001b[0;34m)\u001b[0m\u001b[0;34m.\u001b[0m\u001b[0mto\u001b[0m\u001b[0;34m(\u001b[0m\u001b[0mdevice\u001b[0m\u001b[0;34m)\u001b[0m\u001b[0;34m\u001b[0m\u001b[0;34m\u001b[0m\u001b[0m\n\u001b[1;32m      9\u001b[0m         \u001b[0mmodel\u001b[0m\u001b[0;34m.\u001b[0m\u001b[0mrnn\u001b[0m\u001b[0;34m.\u001b[0m\u001b[0mflatten_parameters\u001b[0m\u001b[0;34m(\u001b[0m\u001b[0;34m)\u001b[0m\u001b[0;34m\u001b[0m\u001b[0;34m\u001b[0m\u001b[0m\n\u001b[0;32m---> 10\u001b[0;31m         \u001b[0ma\u001b[0m \u001b[0;34m=\u001b[0m \u001b[0mclusterPerformanceEncoder\u001b[0m\u001b[0;34m(\u001b[0m\u001b[0mmodel\u001b[0m\u001b[0;34m,\u001b[0m\u001b[0mwords\u001b[0m\u001b[0;34m,\u001b[0m\u001b[0mlabels\u001b[0m\u001b[0;34m,\u001b[0m\u001b[0mverbose\u001b[0m \u001b[0;34m=\u001b[0m \u001b[0;32mFalse\u001b[0m\u001b[0;34m)\u001b[0m\u001b[0;34m\u001b[0m\u001b[0;34m\u001b[0m\u001b[0m\n\u001b[0m\u001b[1;32m     11\u001b[0m         \u001b[0mprint\u001b[0m\u001b[0;34m(\u001b[0m\u001b[0ma\u001b[0m\u001b[0;34m)\u001b[0m\u001b[0;34m\u001b[0m\u001b[0;34m\u001b[0m\u001b[0m\n\u001b[1;32m     12\u001b[0m         \u001b[0maccuracy\u001b[0m\u001b[0;34m.\u001b[0m\u001b[0mappend\u001b[0m\u001b[0;34m(\u001b[0m\u001b[0ma\u001b[0m\u001b[0;34m)\u001b[0m\u001b[0;34m\u001b[0m\u001b[0;34m\u001b[0m\u001b[0m\n",
      "\u001b[0;32m<ipython-input-6-8c1c74f6c96c>\u001b[0m in \u001b[0;36mclusterPerformanceEncoder\u001b[0;34m(model, words, labels, verbose)\u001b[0m\n\u001b[1;32m      5\u001b[0m     \u001b[0mword_indexes\u001b[0m \u001b[0;34m=\u001b[0m \u001b[0mtorch\u001b[0m\u001b[0;34m.\u001b[0m\u001b[0mtensor\u001b[0m\u001b[0;34m(\u001b[0m\u001b[0;34m[\u001b[0m\u001b[0mcorpus\u001b[0m\u001b[0;34m.\u001b[0m\u001b[0mwords2idx\u001b[0m\u001b[0;34m[\u001b[0m\u001b[0mw\u001b[0m\u001b[0;34m]\u001b[0m \u001b[0;32mfor\u001b[0m \u001b[0mw\u001b[0m \u001b[0;32min\u001b[0m \u001b[0mwords\u001b[0m\u001b[0;34m]\u001b[0m\u001b[0;34m)\u001b[0m\u001b[0;34m.\u001b[0m\u001b[0mto\u001b[0m\u001b[0;34m(\u001b[0m\u001b[0mdevice\u001b[0m\u001b[0;34m)\u001b[0m\u001b[0;34m\u001b[0m\u001b[0;34m\u001b[0m\u001b[0m\n\u001b[1;32m      6\u001b[0m     \u001b[0mvectors\u001b[0m \u001b[0;34m=\u001b[0m \u001b[0mmodel\u001b[0m\u001b[0;34m.\u001b[0m\u001b[0mencoder\u001b[0m\u001b[0;34m(\u001b[0m\u001b[0mword_indexes\u001b[0m\u001b[0;34m)\u001b[0m\u001b[0;34m\u001b[0m\u001b[0;34m\u001b[0m\u001b[0m\n\u001b[0;32m----> 7\u001b[0;31m     \u001b[0mvectors\u001b[0m \u001b[0;34m=\u001b[0m \u001b[0mvectors\u001b[0m\u001b[0;34m.\u001b[0m\u001b[0mcpu\u001b[0m\u001b[0;34m(\u001b[0m\u001b[0;34m)\u001b[0m\u001b[0;34m.\u001b[0m\u001b[0mdetach\u001b[0m\u001b[0;34m(\u001b[0m\u001b[0;34m)\u001b[0m\u001b[0;34m.\u001b[0m\u001b[0mnumpy\u001b[0m\u001b[0;34m(\u001b[0m\u001b[0;34m)\u001b[0m\u001b[0;34m\u001b[0m\u001b[0;34m\u001b[0m\u001b[0m\n\u001b[0m\u001b[1;32m      8\u001b[0m     \u001b[0mprint\u001b[0m\u001b[0;34m(\u001b[0m\u001b[0mvectors\u001b[0m\u001b[0;34m.\u001b[0m\u001b[0mshape\u001b[0m\u001b[0;34m)\u001b[0m\u001b[0;34m\u001b[0m\u001b[0;34m\u001b[0m\u001b[0m\n\u001b[1;32m      9\u001b[0m     \u001b[0maccuracy\u001b[0m \u001b[0;34m=\u001b[0m \u001b[0;34m[\u001b[0m\u001b[0;34m]\u001b[0m\u001b[0;34m\u001b[0m\u001b[0;34m\u001b[0m\u001b[0m\n",
      "\u001b[0;31mRuntimeError\u001b[0m: CUDA error: device-side assert triggered"
     ]
    }
   ],
   "source": [
    "for m in modelFiles:\n",
    "    path, vocab, words2idx, idx_train, idx_val, idx_test = getParameters(m)\n",
    "    corpus = data_v3.Corpus(path, vocab, words2idx, idx_train, idx_val, idx_test)\n",
    "    ntokens = len(vocab)\n",
    "    save = modelDir + m  #+'.pt'\n",
    "    print(m)\n",
    "    with open(save, 'rb') as f:\n",
    "        model = torch.load(f).to(device)\n",
    "        model.rnn.flatten_parameters()\n",
    "        a = clusterPerformanceEncoder(model,words,labels,verbose = False)\n",
    "        print(a)\n",
    "        accuracy.append(a)"
   ]
  },
  {
   "cell_type": "code",
   "execution_count": 44,
   "metadata": {},
   "outputs": [
    {
     "data": {
      "image/png": "[encoded data removed]",
      "text/plain": [
       "<Figure size 432x288 with 1 Axes>"
      ]
     },
     "metadata": {
      "needs_background": "light"
     },
     "output_type": "display_data"
    }
   ],
   "source": [
    "plt.bar(embeddings, accuracy)\n",
    "_=plt.xticks(embeddings, rotation='vertical')"
   ]
  },
  {
   "cell_type": "code",
   "execution_count": 254,
   "metadata": {},
   "outputs": [],
   "source": [
    "save = modelDir + modelFiles[3]"
   ]
  },
  {
   "cell_type": "code",
   "execution_count": 255,
   "metadata": {},
   "outputs": [],
   "source": [
    "with open(save, 'rb') as f:\n",
    "        model = torch.load(f)\n",
    "        # after load the rnn params are not a continuous chunk of memory\n",
    "        # this makes them a continuous chunk, and will speed up forward pass\n",
    "        model.rnn.flatten_parameters()"
   ]
  },
  {
   "cell_type": "code",
   "execution_count": 256,
   "metadata": {},
   "outputs": [
    {
     "name": "stdout",
     "output_type": "stream",
     "text": [
      "(80, 200)\n"
     ]
    },
    {
     "data": {
      "text/plain": [
       "0.6375"
      ]
     },
     "execution_count": 256,
     "metadata": {},
     "output_type": "execute_result"
    }
   ],
   "source": [
    "clusterPerformance()"
   ]
  },
  {
   "cell_type": "code",
   "execution_count": 257,
   "metadata": {},
   "outputs": [],
   "source": [
    "word_indexes = torch.tensor([corpus.dictionary.word2idx[w] for w in words]).to(device)\n",
    "male_indexes = torch.tensor([corpus.dictionary.word2idx[w] for w in MALE_NOUNS]).to(device)\n",
    "female_indexes = torch.tensor([corpus.dictionary.word2idx[w] for w in FEMALE_NOUNS]).to(device)"
   ]
  },
  {
   "cell_type": "code",
   "execution_count": 258,
   "metadata": {},
   "outputs": [],
   "source": [
    "with torch.no_grad():\n",
    "    word_vectors = model.encoder(word_indexes)\n",
    "    male_vectors = model.encoder(male_indexes)\n",
    "    female_vectors = model.encoder(female_indexes)"
   ]
  },
  {
   "cell_type": "code",
   "execution_count": 259,
   "metadata": {
    "scrolled": true
   },
   "outputs": [],
   "source": [
    "def distance(v1,v2):\n",
    "    return torch.pow(torch.sum(torch.pow(v1-v2,2)),0.5).item()"
   ]
  },
  {
   "cell_type": "code",
   "execution_count": 260,
   "metadata": {},
   "outputs": [],
   "source": [
    "m_a_d = []\n",
    "f_a_d = []\n",
    "for w in  word_vectors:\n",
    "    m_d = []\n",
    "    for m in male_vectors:\n",
    "        m_d.append(distance(w,m))\n",
    "    m_a_d.append(sum(m_d)/len(m_d))\n",
    "    f_d = []\n",
    "    for f in female_vectors:\n",
    "        f_d.append(distance(w,f))\n",
    "    f_a_d.append(sum(f_d)/len(f_d))    "
   ]
  },
  {
   "cell_type": "code",
   "execution_count": 252,
   "metadata": {},
   "outputs": [
    {
     "data": {
      "text/plain": [
       "3.482090852269724"
      ]
     },
     "execution_count": 252,
     "metadata": {},
     "output_type": "execute_result"
    }
   ],
   "source": [
    "femaleMaleAvgDist = [m for m,l in zip(m_a_d,labels) if l == 0]\n",
    "femaleMaleAvgDist = sum(femaleMaleAvgDist) / len(femaleMaleAvgDist)\n",
    "femaleMaleAvgDist"
   ]
  },
  {
   "cell_type": "code",
   "execution_count": 253,
   "metadata": {},
   "outputs": [
    {
     "data": {
      "text/plain": [
       "3.5359634490624297"
      ]
     },
     "execution_count": 253,
     "metadata": {},
     "output_type": "execute_result"
    }
   ],
   "source": [
    "maleMaleAvgDist = [m for m,l in zip(m_a_d,labels) if l == 1]\n",
    "maleMaleAvgDist = sum(maleMaleAvgDist) / len(maleMaleAvgDist)\n",
    "maleMaleAvgDist"
   ]
  },
  {
   "cell_type": "code",
   "execution_count": 261,
   "metadata": {},
   "outputs": [
    {
     "data": {
      "text/plain": [
       "4.307974853125873"
      ]
     },
     "execution_count": 261,
     "metadata": {},
     "output_type": "execute_result"
    }
   ],
   "source": [
    "femaleMaleAvgDist = [m for m,l in zip(m_a_d,labels) if l == 0]\n",
    "femaleMaleAvgDist = sum(femaleMaleAvgDist) / len(femaleMaleAvgDist)\n",
    "femaleMaleAvgDist"
   ]
  },
  {
   "cell_type": "code",
   "execution_count": 262,
   "metadata": {},
   "outputs": [
    {
     "data": {
      "text/plain": [
       "4.394133258812134"
      ]
     },
     "execution_count": 262,
     "metadata": {},
     "output_type": "execute_result"
    }
   ],
   "source": [
    "maleMaleAvgDist = [m for m,l in zip(m_a_d,labels) if l == 1]\n",
    "maleMaleAvgDist = sum(maleMaleAvgDist) / len(maleMaleAvgDist)\n",
    "maleMaleAvgDist"
   ]
  },
  {
   "cell_type": "code",
   "execution_count": null,
   "metadata": {},
   "outputs": [],
   "source": []
  }
 ],
 "metadata": {
  "kernelspec": {
   "display_name": "Python 3",
   "language": "python",
   "name": "python3"
  },
  "language_info": {
   "codemirror_mode": {
    "name": "ipython",
    "version": 3
   },
   "file_extension": ".py",
   "mimetype": "text/x-python",
   "name": "python",
   "nbconvert_exporter": "python",
   "pygments_lexer": "ipython3",
   "version": "3.7.3"
  }
 },
 "nbformat": 4,
 "nbformat_minor": 2
}
