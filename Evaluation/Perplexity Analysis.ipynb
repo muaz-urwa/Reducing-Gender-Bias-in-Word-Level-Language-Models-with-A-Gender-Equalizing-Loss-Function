{
 "cells": [
  {
   "cell_type": "code",
   "execution_count": 1,
   "metadata": {},
   "outputs": [],
   "source": [
    "import time\n",
    "import math\n",
    "import os\n",
    "import torch\n",
    "import torch.nn as nn\n",
    "import torch.onnx\n",
    "import numpy as np\n",
    "\n",
    "import data\n",
    "import model as modelScript\n",
    "import pickle\n",
    "\n",
    "import matplotlib.pyplot as plt\n",
    "%matplotlib inline"
   ]
  },
  {
   "cell_type": "code",
   "execution_count": 2,
   "metadata": {},
   "outputs": [],
   "source": [
    "def batchify(data, bsz):\n",
    "    # Work out how cleanly we can divide the dataset into bsz parts.\n",
    "    nbatch = data.size(0) // bsz\n",
    "    # Trim off any extra elements that wouldn't cleanly fit (remainders).\n",
    "    data = data.narrow(0, 0, nbatch * bsz)\n",
    "    # Evenly divide the data across the bsz batches.\n",
    "    data = data.view(bsz, -1).t().contiguous()\n",
    "    return data.to(device)"
   ]
  },
  {
   "cell_type": "code",
   "execution_count": 3,
   "metadata": {},
   "outputs": [],
   "source": [
    "def repackage_hidden(h):\n",
    "    \"\"\"Wraps hidden states in new Tensors, to detach them from their history.\"\"\"\n",
    "    if isinstance(h, torch.Tensor):\n",
    "        return h.detach()\n",
    "    else:\n",
    "        return tuple(repackage_hidden(v) for v in h)"
   ]
  },
  {
   "cell_type": "code",
   "execution_count": 4,
   "metadata": {},
   "outputs": [],
   "source": [
    "def get_batch(source, i):\n",
    "    seq_len = min(bptt, len(source) - 1 - i)\n",
    "    data = source[i:i+seq_len]\n",
    "    target = source[i+1:i+1+seq_len].view(-1)\n",
    "    return data, target\n",
    "\n",
    "\n",
    "def evaluate(data_source):\n",
    "    # Turn on evaluation mode which disables dropout.\n",
    "    model.eval()\n",
    "    total_loss = 0.\n",
    "    ntokens = len(corpus.dictionary)\n",
    "    hidden = model.init_hidden(eval_batch_size)\n",
    "    with torch.no_grad():\n",
    "        for i in range(0, data_source.size(0) - 1, bptt):\n",
    "            data, targets = get_batch(data_source, i)\n",
    "            output, hidden = model(data, hidden)\n",
    "            output_flat = output.view(-1, ntokens)\n",
    "            total_loss += len(data) * criterion(output_flat, targets).item()\n",
    "            #total_loss += len(data) * criterion(output, targets, lamda, f_onehot, m_onehot)\n",
    "            hidden = repackage_hidden(hidden)\n",
    "    return total_loss / (len(data_source) - 1)"
   ]
  },
  {
   "cell_type": "code",
   "execution_count": 5,
   "metadata": {},
   "outputs": [],
   "source": [
    "def getDataDir(model):\n",
    "    # returns data directory for the model\n",
    "    if model in ['cda.pt', 'CDA_and_lambda_0.5.pt','CDA_and_lambda_0.1.pt']:\n",
    "        return '/home/urwa/Documents/Courses/NLU/GBLM/GBLM/Pytorch Model/CDA/wikitextCDA'\n",
    "    else:\n",
    "        return './data/wikitext-2'"
   ]
  },
  {
   "cell_type": "code",
   "execution_count": 6,
   "metadata": {},
   "outputs": [],
   "source": [
    "cuda = True\n",
    "seed = 20190328\n",
    "batch_size = 20\n",
    "#dataDir = './data/wikitext-2'\n",
    "\n",
    "log_interval = 200\n",
    "\n",
    "#save = 'models/lambda_0.pt'\n",
    "\n",
    "bptt = 35\n",
    "eval_batch_size = 10"
   ]
  },
  {
   "cell_type": "code",
   "execution_count": 7,
   "metadata": {},
   "outputs": [],
   "source": [
    "# Set the random seed manually for reproducibility.\n",
    "torch.manual_seed(seed)\n",
    "if torch.cuda.is_available():\n",
    "    if not cuda:\n",
    "        print(\"WARNING: You have a CUDA device, so you should probably run with --cuda\")\n",
    "\n",
    "device = torch.device(\"cuda\" if cuda else \"cpu\")"
   ]
  },
  {
   "cell_type": "code",
   "execution_count": 8,
   "metadata": {},
   "outputs": [],
   "source": [
    "criterion = nn.CrossEntropyLoss()"
   ]
  },
  {
   "cell_type": "code",
   "execution_count": 9,
   "metadata": {},
   "outputs": [
    {
     "data": {
      "text/plain": [
       "['lambda_0.1.pt',\n",
       " 'lambda_0.5.pt',\n",
       " 'lambda_0.8.pt',\n",
       " 'CDA_and_lambda_0.5.pt',\n",
       " 'lambda_1.pt',\n",
       " 'cda.pt',\n",
       " 'lambda_5.pt',\n",
       " 'lambda_10.pt',\n",
       " 'lambda_0.01.pt',\n",
       " 'lambda_0.pt',\n",
       " 'lambda_2.pt',\n",
       " 'CDA_and_lambda_0.1.pt']"
      ]
     },
     "execution_count": 9,
     "metadata": {},
     "output_type": "execute_result"
    }
   ],
   "source": [
    "modelDir = './models/'\n",
    "modelFiles = [m for m in os.listdir(modelDir) if m.endswith('.pt')]\n",
    "modelFiles"
   ]
  },
  {
   "cell_type": "code",
   "execution_count": 10,
   "metadata": {},
   "outputs": [],
   "source": [
    "#modelFiles = ['CDA_and_lambda_0.5.pt']"
   ]
  },
  {
   "cell_type": "code",
   "execution_count": 13,
   "metadata": {},
   "outputs": [
    {
     "name": "stdout",
     "output_type": "stream",
     "text": [
      "Processing:  lambda_0.1.pt\n",
      "=========================================================================================\n",
      "| End of training | test loss  4.71 | test ppl   111.03\n",
      "=========================================================================================\n",
      "Processing:  lambda_0.5.pt\n",
      "=========================================================================================\n",
      "| End of training | test loss  4.71 | test ppl   111.31\n",
      "=========================================================================================\n",
      "Processing:  lambda_0.8.pt\n",
      "=========================================================================================\n",
      "| End of training | test loss  4.72 | test ppl   112.38\n",
      "=========================================================================================\n",
      "Processing:  CDA_and_lambda_0.5.pt\n",
      "=========================================================================================\n",
      "| End of training | test loss  4.70 | test ppl   110.31\n",
      "=========================================================================================\n",
      "Processing:  lambda_1.pt\n",
      "=========================================================================================\n",
      "| End of training | test loss  4.72 | test ppl   112.31\n",
      "=========================================================================================\n",
      "Processing:  cda.pt\n",
      "=========================================================================================\n",
      "| End of training | test loss  4.71 | test ppl   111.48\n",
      "=========================================================================================\n",
      "Processing:  lambda_5.pt\n",
      "=========================================================================================\n",
      "| End of training | test loss  4.97 | test ppl   144.20\n",
      "=========================================================================================\n",
      "Processing:  lambda_10.pt\n",
      "=========================================================================================\n",
      "| End of training | test loss  5.54 | test ppl   254.17\n",
      "=========================================================================================\n",
      "Processing:  lambda_0.01.pt\n",
      "=========================================================================================\n",
      "| End of training | test loss  4.73 | test ppl   112.91\n",
      "=========================================================================================\n",
      "Processing:  lambda_0.pt\n",
      "=========================================================================================\n",
      "| End of training | test loss  4.71 | test ppl   111.14\n",
      "=========================================================================================\n",
      "Processing:  lambda_2.pt\n",
      "=========================================================================================\n",
      "| End of training | test loss  4.78 | test ppl   118.96\n",
      "=========================================================================================\n",
      "Processing:  CDA_and_lambda_0.1.pt\n",
      "=========================================================================================\n",
      "| End of training | test loss  4.71 | test ppl   110.98\n",
      "=========================================================================================\n"
     ]
    }
   ],
   "source": [
    "ppx = []\n",
    "for m in modelFiles:\n",
    "    print('Processing: ',m)\n",
    "    seed = 20190328\n",
    "    torch.manual_seed(seed)\n",
    "    \n",
    "    dataDir = getDataDir(m)\n",
    "    corpus = data.Corpus(dataDir)\n",
    "    test_data = batchify(corpus.test, eval_batch_size)\n",
    "    \n",
    "    save = modelDir + m\n",
    "    with open(save, 'rb') as f:\n",
    "        model = torch.load(f)\n",
    "        # after load the rnn params are not a continuous chunk of memory\n",
    "        # this makes them a continuous chunk, and will speed up forward pass\n",
    "        model.rnn.flatten_parameters()\n",
    "    \n",
    "    # Run on test data.\n",
    "    test_loss = evaluate(test_data)\n",
    "    print('=' * 89)\n",
    "    print('| End of training | test loss {:5.2f} | test ppl {:8.2f}'.format(\n",
    "        test_loss, math.exp(test_loss)))\n",
    "    print('=' * 89)\n",
    "    ppx.append(math.exp(test_loss))"
   ]
  },
  {
   "cell_type": "code",
   "execution_count": 14,
   "metadata": {},
   "outputs": [
    {
     "data": {
      "text/plain": [
       "['lambda_0.1',\n",
       " 'lambda_0.5',\n",
       " 'lambda_0.8',\n",
       " 'CDA_and_lambda_0.5',\n",
       " 'lambda_1',\n",
       " 'cda',\n",
       " 'lambda_5',\n",
       " 'lambda_10',\n",
       " 'lambda_0.01',\n",
       " 'lambda_0',\n",
       " 'lambda_2',\n",
       " 'CDA_and_lambda_0.1']"
      ]
     },
     "execution_count": 14,
     "metadata": {},
     "output_type": "execute_result"
    }
   ],
   "source": [
    "modelNames = ['.'.join(m.split('.')[:-1]) for m in modelFiles]\n",
    "modelNames"
   ]
  },
  {
   "cell_type": "code",
   "execution_count": 15,
   "metadata": {},
   "outputs": [],
   "source": [
    "## Just arranging model names by lambda\n",
    "mm = ['lambda_0','cda','CDA_and_lambda_0.5','CDA_and_lambda_0.1', 'lambda_0.01','lambda_0.1', 'lambda_0.5', 'lambda_0.8',\\\n",
    "      'lambda_1', 'lambda_2', 'lambda_5','lambda_10']\n",
    "ppx = [dict(zip(modelNames,ppx))[m] for m in mm]\n",
    "modelNames = mm"
   ]
  },
  {
   "cell_type": "code",
   "execution_count": 16,
   "metadata": {},
   "outputs": [
    {
     "data": {
      "text/plain": [
       "[('lambda_0', 111.14198692370208),\n",
       " ('cda', 111.47552030098709),\n",
       " ('CDA_and_lambda_0.5', 110.31317542993415),\n",
       " ('CDA_and_lambda_0.1', 110.97872065551951),\n",
       " ('lambda_0.01', 112.91485985159021),\n",
       " ('lambda_0.1', 111.02678969098424),\n",
       " ('lambda_0.5', 111.30998260308019),\n",
       " ('lambda_0.8', 112.38335133100942),\n",
       " ('lambda_1', 112.30618596168217),\n",
       " ('lambda_2', 118.96417564669466),\n",
       " ('lambda_5', 144.19863588466148),\n",
       " ('lambda_10', 254.17184052516228)]"
      ]
     },
     "execution_count": 16,
     "metadata": {},
     "output_type": "execute_result"
    }
   ],
   "source": [
    "list(zip(modelNames,ppx))"
   ]
  },
  {
   "cell_type": "code",
   "execution_count": 17,
   "metadata": {},
   "outputs": [
    {
     "data": {
      "image/png": "[encoded data removed]",
      "text/plain": [
       "<Figure size 432x216 with 1 Axes>"
      ]
     },
     "metadata": {
      "needs_background": "light"
     },
     "output_type": "display_data"
    }
   ],
   "source": [
    "plt.figure(figsize=(6,3))\n",
    "plt.bar(modelNames, ppx, color=(0.6, 0.8, 0.5, 1))\n",
    "plt.title('Perplexity')\n",
    "plt.ylabel('perplexity')\n",
    "plt.ylim((100,150))\n",
    "_=plt.xticks(modelNames, rotation='vertical')"
   ]
  },
  {
   "cell_type": "code",
   "execution_count": 21,
   "metadata": {},
   "outputs": [],
   "source": []
  },
  {
   "cell_type": "code",
   "execution_count": null,
   "metadata": {},
   "outputs": [],
   "source": []
  }
 ],
 "metadata": {
  "kernelspec": {
   "display_name": "Python 3",
   "language": "python",
   "name": "python3"
  },
  "language_info": {
   "codemirror_mode": {
    "name": "ipython",
    "version": 3
   },
   "file_extension": ".py",
   "mimetype": "text/x-python",
   "name": "python",
   "nbconvert_exporter": "python",
   "pygments_lexer": "ipython3",
   "version": "3.6.6"
  }
 },
 "nbformat": 4,
 "nbformat_minor": 2
}
