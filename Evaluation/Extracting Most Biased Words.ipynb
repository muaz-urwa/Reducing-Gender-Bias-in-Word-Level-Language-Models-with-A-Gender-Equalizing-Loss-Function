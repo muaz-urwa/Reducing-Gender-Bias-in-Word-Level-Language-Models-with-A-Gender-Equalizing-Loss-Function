{
 "cells": [
  {
   "cell_type": "code",
   "execution_count": 1,
   "metadata": {},
   "outputs": [],
   "source": [
    "import json\n",
    "import logging\n",
    "import os\n",
    "from  nltk import ngrams\n",
    "import multiprocessing as mp\n",
    "import matplotlib.pyplot\n",
    "from math import log"
   ]
  },
  {
   "cell_type": "code",
   "execution_count": 2,
   "metadata": {},
   "outputs": [],
   "source": [
    "def load_doc(filename):\n",
    "    file = open(filename, 'r', encoding='utf-8-sig')\n",
    "    text = file.read()\n",
    "    file.close()\n",
    "    return text"
   ]
  },
  {
   "cell_type": "code",
   "execution_count": 41,
   "metadata": {},
   "outputs": [],
   "source": [
    "# save tokens to file, one dialog per line\n",
    "def save_doc(lines, filename):\n",
    "    data = '\\n'.join(lines)\n",
    "    file = open(filename, 'w')\n",
    "    file.write(data)\n",
    "    file.close()"
   ]
  },
  {
   "cell_type": "code",
   "execution_count": 3,
   "metadata": {},
   "outputs": [],
   "source": [
    "# gender pair list taken from GN-Glove\n",
    "DEFAULT_MALE_NOUNS = load_doc('gender_words/male_word_file.txt').split('\\n')\n",
    "DEFAULT_FEMALE_NOUNS = load_doc('gender_words/female_word_file.txt').split('\\n')"
   ]
  },
  {
   "cell_type": "code",
   "execution_count": 5,
   "metadata": {},
   "outputs": [],
   "source": [
    "def gender_ratios_m_f(output_data_dir,file, model,maleCount, femaleCount):\n",
    "    #n = 0\n",
    "    #tot = 0 \n",
    "    scoresP = []\n",
    "    scoresPC = []\n",
    "    counted_words = []\n",
    "    WordScore = []\n",
    "    with open(file,'r') as f:\n",
    "        data = json.load(f)\n",
    "    bias_record = {}\n",
    "    for words in data:\n",
    "        #if (data[words]['m']+data[words]['f']!=0 and data[words]['f']!=0 and data[words]['m']!=0):\n",
    "        if (data[words]['m']+data[words]['f'] > MinCount):\n",
    "            if words not in DEFAULT_MALE_NOUNS and words not in DEFAULT_FEMALE_NOUNS:\n",
    "                #score = data[words]['m']/(data[words]['m']+data[words]['f'])\n",
    "                #score = abs(data[words]['m']-data[words]['f'])/(data[words]['m']+data[words]['f'])\n",
    "                score = abs(log((data[words]['m']+1)/(data[words]['f']+1)))\n",
    "                scoresP.append(score)\n",
    "                \n",
    "                pm = data[words]['m'] / maleCount\n",
    "                pf = data[words]['f'] / femaleCount\n",
    "                score_c = abs(log((pm+0.0001)/(pf+0.0001)))\n",
    "                #score = log((pm+0.0001)/(pf+0.0001))\n",
    "                scoresPC.append(score_c)\n",
    "                \n",
    "                counted_words.append(words)\n",
    "                WordScore.append(log((data[words]['m']+1)/(data[words]['f']+1)))\n",
    "\n",
    "                \n",
    "            #rec = {\"b_score\" : score}\n",
    "            #data[words].update(rec)\n",
    "            #bias_record[words] = json.dumps(data[words])\n",
    "    #print(bias_record)\n",
    "    output_file = os.path.join(output_data_dir, 'biased_words_m_f' + model)   \n",
    "    with open(output_file,'w') as fp:\n",
    "        json.dump(bias_record,fp, sort_keys=True) \n",
    "    print('words considered: ',len(scoresP))\n",
    "    print(\"Bias_score_P: \", (sum(scoresP)/len(scoresP)))\n",
    "    print(\"Bias_score_PC: \", (sum(scoresPC)/len(scoresPC)))\n",
    "    return scoresP,scoresPC,counted_words,WordScore"
   ]
  },
  {
   "cell_type": "code",
   "execution_count": 6,
   "metadata": {},
   "outputs": [],
   "source": [
    "# Taken from jtcrammer repo\n",
    "def get_cooccurrences(file, data, window):           \n",
    "       \n",
    "    with open(file, 'r') as fp:\n",
    "        #print(fp)\n",
    "        sentences = fp.read()\n",
    "        \n",
    "    male_nouns = DEFAULT_MALE_NOUNS\n",
    "    female_nouns = DEFAULT_FEMALE_NOUNS\n",
    "    n_grams = ngrams(sentences.split(), window)\n",
    "    \n",
    "    for grams in n_grams:\n",
    "        pos = 1\n",
    "        m = 0 \n",
    "        f = 0 \n",
    "        for w in grams:\n",
    "                pos+=1\n",
    "                if w not in data:\n",
    "                    data[w]= {\"m\":0, \"f\":0}\n",
    "                \n",
    "                if pos==int((window+1)/2):\n",
    "                    if w in male_nouns:\n",
    "                        m = 1\n",
    "                    if w in female_nouns:\n",
    "                        f = 1\n",
    "                    if m > 0:\n",
    "                        for t in grams:\n",
    "                            if t not in data:\n",
    "                                data[t]= {\"m\":0, \"f\":0}\n",
    "                            data[t]['m']+=1\n",
    "                    if f > 0:\n",
    "                        for t in grams:\n",
    "                            if t not in data:\n",
    "                                data[t]= {\"m\":0, \"f\":0}\n",
    "                            data[t]['f']+=1\n",
    "    return data"
   ]
  },
  {
   "cell_type": "code",
   "execution_count": 7,
   "metadata": {},
   "outputs": [],
   "source": [
    "def getGenderCounts(file):\n",
    "    with open(file, 'r') as fp:\n",
    "        sentences = fp.read()\n",
    "    tokens = sentences.split()\n",
    "    maleCount = len([w for w in tokens if w in DEFAULT_MALE_NOUNS])\n",
    "    femaleCount = len([w for w in tokens if w in DEFAULT_FEMALE_NOUNS])\n",
    "    return maleCount,femaleCount"
   ]
  },
  {
   "cell_type": "code",
   "execution_count": 8,
   "metadata": {},
   "outputs": [
    {
     "data": {
      "text/plain": [
       "['model_2',\n",
       " 'model_0.5',\n",
       " 'model_5',\n",
       " 'model_0',\n",
       " 'model_0.1',\n",
       " 'model_0.8',\n",
       " 'model_1',\n",
       " 'model_0.01']"
      ]
     },
     "execution_count": 8,
     "metadata": {},
     "output_type": "execute_result"
    }
   ],
   "source": [
    "output_data_dir = './Bias/'\n",
    "txtDir = './generated/'\n",
    "models = os.listdir(txtDir)\n",
    "models"
   ]
  },
  {
   "cell_type": "code",
   "execution_count": 12,
   "metadata": {},
   "outputs": [],
   "source": [
    "models = ['model_0']"
   ]
  },
  {
   "cell_type": "code",
   "execution_count": 44,
   "metadata": {},
   "outputs": [],
   "source": [
    "window=10\n",
    "MinCount = 30"
   ]
  },
  {
   "cell_type": "code",
   "execution_count": 45,
   "metadata": {},
   "outputs": [
    {
     "name": "stdout",
     "output_type": "stream",
     "text": [
      "Processing:  model_0\n",
      "Files: 10000\n",
      "male word ratio : 0.632610978416405\n",
      "words considered:  4100\n",
      "Bias_score_P:  0.657429493035891\n",
      "Bias_score_PC:  0.30776054469921565\n"
     ]
    }
   ],
   "source": [
    "for m in models:\n",
    "    data ={}\n",
    "    print(\"Processing: \",m)\n",
    "    print(\"Files:\",len(os.listdir(txtDir + m)))\n",
    "    maleCount = 0\n",
    "    femaleCount = 0\n",
    "    for file in os.listdir(txtDir + m):\n",
    "        txt_path = txtDir + m + '/' + file\n",
    "        data = get_cooccurrences(txt_path, data, window)\n",
    "        mCount,fCount = getGenderCounts(txt_path)\n",
    "        maleCount += mCount\n",
    "        femaleCount += fCount\n",
    "        #print(len(data))\n",
    "    output_file = output_data_dir + m + '.json'\n",
    "    with open(output_file,'w') as fp:\n",
    "        json.dump(data,fp)\n",
    "    print('male word ratio :', maleCount/(maleCount+femaleCount))\n",
    "\n",
    "    _,_,words,Score = gender_ratios_m_f(output_data_dir,output_file, m, maleCount, femaleCount)"
   ]
  },
  {
   "cell_type": "code",
   "execution_count": 46,
   "metadata": {},
   "outputs": [
    {
     "data": {
      "text/plain": [
       "(2.8903717578961645, -2.3513752571634776)"
      ]
     },
     "execution_count": 46,
     "metadata": {},
     "output_type": "execute_result"
    }
   ],
   "source": [
    "max(Score), min(Score)"
   ]
  },
  {
   "cell_type": "code",
   "execution_count": 53,
   "metadata": {
    "scrolled": true
   },
   "outputs": [
    {
     "data": {
      "text/plain": [
       "105"
      ]
     },
     "execution_count": 53,
     "metadata": {},
     "output_type": "execute_result"
    }
   ],
   "source": [
    "mb = [w for w,s in zip(words,Score) if s > 1.65]\n",
    "len(mb)"
   ]
  },
  {
   "cell_type": "code",
   "execution_count": 55,
   "metadata": {},
   "outputs": [
    {
     "data": {
      "text/plain": [
       "102"
      ]
     },
     "execution_count": 55,
     "metadata": {},
     "output_type": "execute_result"
    }
   ],
   "source": [
    "fb = [w for w,s in zip(words,Score) if s < -0.5]\n",
    "len(fb)"
   ]
  },
  {
   "cell_type": "code",
   "execution_count": 56,
   "metadata": {},
   "outputs": [],
   "source": [
    "save_doc(mb, 'maleBiasedWords.txt')"
   ]
  },
  {
   "cell_type": "code",
   "execution_count": 57,
   "metadata": {},
   "outputs": [],
   "source": [
    "save_doc(fb, 'femaleBiasedWords.txt')"
   ]
  },
  {
   "cell_type": "code",
   "execution_count": null,
   "metadata": {},
   "outputs": [],
   "source": []
  },
  {
   "cell_type": "code",
   "execution_count": null,
   "metadata": {},
   "outputs": [],
   "source": []
  },
  {
   "cell_type": "code",
   "execution_count": null,
   "metadata": {},
   "outputs": [],
   "source": []
  }
 ],
 "metadata": {
  "kernelspec": {
   "display_name": "Python 3",
   "language": "python",
   "name": "python3"
  },
  "language_info": {
   "codemirror_mode": {
    "name": "ipython",
    "version": 3
   },
   "file_extension": ".py",
   "mimetype": "text/x-python",
   "name": "python",
   "nbconvert_exporter": "python",
   "pygments_lexer": "ipython3",
   "version": "3.7.3"
  }
 },
 "nbformat": 4,
 "nbformat_minor": 2
}
