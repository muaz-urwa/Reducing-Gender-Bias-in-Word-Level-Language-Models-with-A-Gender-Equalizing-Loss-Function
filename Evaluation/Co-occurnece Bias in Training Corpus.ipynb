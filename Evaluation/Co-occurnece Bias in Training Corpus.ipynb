{
 "cells": [
  {
   "cell_type": "code",
   "execution_count": 1,
   "metadata": {},
   "outputs": [],
   "source": [
    "import json\n",
    "import logging\n",
    "import os\n",
    "from  nltk import ngrams\n",
    "import multiprocessing as mp\n",
    "import matplotlib.pyplot as plt\n",
    "%matplotlib inline\n",
    "\n",
    "from math import log\n",
    "#import data"
   ]
  },
  {
   "cell_type": "code",
   "execution_count": 2,
   "metadata": {},
   "outputs": [],
   "source": [
    "def load_doc(filename):\n",
    "    file = open(filename, 'r', encoding='utf-8-sig')\n",
    "    text = file.read()\n",
    "    file.close()\n",
    "    return text"
   ]
  },
  {
   "cell_type": "code",
   "execution_count": 3,
   "metadata": {},
   "outputs": [],
   "source": [
    "def getUpper(word):\n",
    "    #print(word)\n",
    "    word = word[0].upper() + word[1:]\n",
    "    return word"
   ]
  },
  {
   "cell_type": "code",
   "execution_count": 4,
   "metadata": {},
   "outputs": [],
   "source": [
    "# gender pair list taken from GN-Glove\n",
    "DEFAULT_MALE_NOUNS = load_doc('gender_words/male_word_file.txt').split('\\n')\n",
    "DEFAULT_FEMALE_NOUNS = load_doc('gender_words/female_word_file.txt').split('\\n')"
   ]
  },
  {
   "cell_type": "code",
   "execution_count": 5,
   "metadata": {},
   "outputs": [],
   "source": [
    "# dataDir = './data/wikitext-2'\n",
    "# corpus = data.Corpus(dataDir)\n",
    "# ntokens = len(corpus.dictionary)"
   ]
  },
  {
   "cell_type": "code",
   "execution_count": 6,
   "metadata": {},
   "outputs": [],
   "source": [
    "def gender_ratios_m_f(output_data_dir,file, model,maleCount, femaleCount):\n",
    "    #n = 0\n",
    "    #tot = 0 \n",
    "    scoresP = []\n",
    "    scoresPC = []\n",
    "    with open(file,'r') as f:\n",
    "        data = json.load(f)\n",
    "    bias_record = {}\n",
    "    for words in data:\n",
    "        #if (data[words]['m']+data[words]['f']!=0 and data[words]['f']!=0 and data[words]['m']!=0):\n",
    "        if (data[words]['m']+data[words]['f'] > MinCount):\n",
    "            if words not in DEFAULT_MALE_NOUNS and words not in DEFAULT_FEMALE_NOUNS:\n",
    "                #score = data[words]['m']/(data[words]['m']+data[words]['f'])\n",
    "                #score = abs(data[words]['m']-data[words]['f'])/(data[words]['m']+data[words]['f'])\n",
    "                score = abs(log((data[words]['m']+1)/(data[words]['f']+1)))\n",
    "                scoresP.append(score)\n",
    "                \n",
    "                pm = data[words]['m'] / maleCount\n",
    "                pf = data[words]['f'] / femaleCount\n",
    "                score_c = abs(log((pm+0.0001)/(pf+0.0001)))\n",
    "                #score = log((pm+0.0001)/(pf+0.0001))\n",
    "                scoresPC.append(score_c)\n",
    "                #tot+=score\n",
    "                #n +=1\n",
    "                bias_record[words] = log((data[words]['m']+1)/(data[words]['f']+1))\n",
    "            #rec = {\"b_score\" : score}\n",
    "            #data[words].update(rec)\n",
    "            #bias_record[words] = json.dumps(data[words])\n",
    "    #print(bias_record)\n",
    "    output_file = os.path.join(output_data_dir, 'biased_words_m_f' + model)   \n",
    "    with open(output_file,'w') as fp:\n",
    "        json.dump(bias_record,fp, sort_keys=True) \n",
    "    print('words considered: ',len(scoresP))\n",
    "    print(\"Bias_score_P: \", (sum(scoresP)/len(scoresP)))\n",
    "    print(\"Bias_score_PC: \", (sum(scoresPC)/len(scoresPC)))\n",
    "    return scoresP,scoresPC,bias_record"
   ]
  },
  {
   "cell_type": "code",
   "execution_count": 7,
   "metadata": {},
   "outputs": [],
   "source": [
    "# Taken from jtcrammer repo\n",
    "def get_cooccurrences(file, data, window):           \n",
    "       \n",
    "    with open(file, 'r') as fp:\n",
    "        #print(fp)\n",
    "        sentences = fp.read()\n",
    "        \n",
    "    male_nouns = DEFAULT_MALE_NOUNS\n",
    "    female_nouns = DEFAULT_FEMALE_NOUNS\n",
    "    n_grams = ngrams(sentences.split(), window)\n",
    "    \n",
    "    for grams in n_grams:\n",
    "        pos = 1\n",
    "        m = 0 \n",
    "        f = 0 \n",
    "        for w in grams:\n",
    "                pos+=1\n",
    "                if w not in data:\n",
    "                    data[w]= {\"m\":0, \"f\":0}\n",
    "                \n",
    "                if pos==int((window+1)/2):\n",
    "                    if w in male_nouns:\n",
    "                        m = 1\n",
    "                    if w in female_nouns:\n",
    "                        f = 1\n",
    "                    if m > 0:\n",
    "                        for t in grams:\n",
    "                            if t not in data:\n",
    "                                data[t]= {\"m\":0, \"f\":0}\n",
    "                            data[t]['m']+=1\n",
    "                    if f > 0:\n",
    "                        for t in grams:\n",
    "                            if t not in data:\n",
    "                                data[t]= {\"m\":0, \"f\":0}\n",
    "                            data[t]['f']+=1\n",
    "    return data"
   ]
  },
  {
   "cell_type": "code",
   "execution_count": 8,
   "metadata": {},
   "outputs": [],
   "source": [
    "def getGenderCounts(file):\n",
    "    with open(file, 'r') as fp:\n",
    "        sentences = fp.read()\n",
    "    tokens = sentences.split()\n",
    "    maleCount = len([w for w in tokens if w in DEFAULT_MALE_NOUNS])\n",
    "    femaleCount = len([w for w in tokens if w in DEFAULT_FEMALE_NOUNS])\n",
    "    return maleCount,femaleCount"
   ]
  },
  {
   "cell_type": "code",
   "execution_count": 9,
   "metadata": {},
   "outputs": [],
   "source": [
    "output_data_dir = './Bias/'"
   ]
  },
  {
   "cell_type": "code",
   "execution_count": 10,
   "metadata": {},
   "outputs": [],
   "source": [
    "window=10\n",
    "MinCount = 5"
   ]
  },
  {
   "cell_type": "code",
   "execution_count": 11,
   "metadata": {},
   "outputs": [],
   "source": [
    "#dataDir = './data/wikitext-2'\n",
    "dataDir = './data/wikitextCDA'\n",
    "txt_path = dataDir + '/' + 'train.txt'\n",
    "data = {}\n",
    "data = get_cooccurrences(txt_path, data, window)\n",
    "mCount,fCount = getGenderCounts(txt_path)\n",
    "output_file = output_data_dir + 'wikitext2' + '.json'\n",
    "with open(output_file,'w') as fp:\n",
    "    json.dump(data,fp)"
   ]
  },
  {
   "cell_type": "code",
   "execution_count": 40,
   "metadata": {},
   "outputs": [
    {
     "name": "stdout",
     "output_type": "stream",
     "text": [
      "words considered:  4744\n",
      "Bias_score_P:  1.0796401960820505\n",
      "Bias_score_PC:  0.670002716326834\n",
      "male ratio:  0.7186485591255383\n"
     ]
    }
   ],
   "source": [
    "bias = gender_ratios_m_f(output_data_dir,output_file, 'wikitext2',mCount,fCount)\n",
    "print('male ratio: ',mCount/(mCount + fCount))"
   ]
  },
  {
   "cell_type": "code",
   "execution_count": 12,
   "metadata": {},
   "outputs": [
    {
     "name": "stdout",
     "output_type": "stream",
     "text": [
      "words considered:  8699\n",
      "Bias_score_P:  0.006801385896046184\n",
      "Bias_score_PC:  0.0050389702135772785\n",
      "male ratio:  0.5\n"
     ]
    }
   ],
   "source": [
    "bias = gender_ratios_m_f(output_data_dir,output_file, 'wikitext2',mCount,fCount)\n",
    "print('male ratio: ',mCount/(mCount + fCount))"
   ]
  },
  {
   "cell_type": "code",
   "execution_count": 41,
   "metadata": {},
   "outputs": [
    {
     "data": {
      "image/png": "[encoded data removed]",
      "text/plain": [
       "<Figure size 864x144 with 1 Axes>"
      ]
     },
     "metadata": {
      "needs_background": "light"
     },
     "output_type": "display_data"
    }
   ],
   "source": [
    "plt.figure(figsize=(12,2))\n",
    "plt.title('wikitext')\n",
    "_=plt.hist(bias[0], bins=100, range=(0,3))"
   ]
  },
  {
   "cell_type": "code",
   "execution_count": 42,
   "metadata": {},
   "outputs": [
    {
     "data": {
      "image/png": "[encoded data removed]",
      "text/plain": [
       "<Figure size 864x144 with 1 Axes>"
      ]
     },
     "metadata": {
      "needs_background": "light"
     },
     "output_type": "display_data"
    }
   ],
   "source": [
    "plt.figure(figsize=(12,2))\n",
    "plt.title('wikitext')\n",
    "_=plt.hist(bias[1], bins=100 , range=(0,3))"
   ]
  },
  {
   "cell_type": "code",
   "execution_count": 43,
   "metadata": {},
   "outputs": [
    {
     "data": {
      "text/plain": [
       "81"
      ]
     },
     "execution_count": 43,
     "metadata": {},
     "output_type": "execute_result"
    }
   ],
   "source": [
    "occupations = load_doc('neutralOccupations.txt').split('\\n')\n",
    "occupations += [getUpper(w) for w in occupations if len(w)>0]\n",
    "len(occupations)"
   ]
  },
  {
   "cell_type": "code",
   "execution_count": 44,
   "metadata": {},
   "outputs": [
    {
     "data": {
      "text/plain": [
       "17"
      ]
     },
     "execution_count": 44,
     "metadata": {},
     "output_type": "execute_result"
    }
   ],
   "source": [
    "dist = bias[2]\n",
    "occupations = [o for o in occupations if o in dist ]\n",
    "bdist = [dist[o] for o in occupations]\n",
    "len(bdist)"
   ]
  },
  {
   "cell_type": "code",
   "execution_count": 45,
   "metadata": {},
   "outputs": [
    {
     "data": {
      "image/png": "[encoded data removed]",
      "text/plain": [
       "<Figure size 1080x288 with 1 Axes>"
      ]
     },
     "metadata": {
      "needs_background": "light"
     },
     "output_type": "display_data"
    }
   ],
   "source": [
    "plt.figure(figsize=(15,4))\n",
    "plt.bar(occupations, bdist)\n",
    "plt.title('wikitext')\n",
    "#plt.ylim((-1.5,2))\n",
    "_=plt.xticks(occupations, rotation='vertical')"
   ]
  },
  {
   "cell_type": "code",
   "execution_count": 15,
   "metadata": {},
   "outputs": [],
   "source": [
    "BASIC_MALE_NOUNS = [\n",
    "    'gentleman', 'man', 'men', 'gentlemen', 'male', 'males', 'boy', 'boyfriend','mr', 'actor', 'prince', 'king', 'kings','uncle', 'uncles', 'groom', 'widower', 'grandson', 'grandsons', 'grandfather','monk', 'grandpa',\n",
    "    'boyfriends', 'boys', 'he', 'his', 'him', 'husband', 'husbands', 'son' , 'sons', 'brother', 'brothers','himself'\n",
    "]\n",
    "\n",
    "BASIC_FEMALE_NOUNS = [\n",
    "    'woman', 'women', 'ladies', 'female', 'females', 'girl', 'girlfriend', 'ms','mrs','actress', 'princess', 'queen', 'queens','aunt', 'aunts', 'bride', 'blonde', 'widow', 'granddaughter', 'granddaughters', 'grandmother', 'nun', 'granny',\n",
    "    'girlfriends', 'girls', 'her', 'hers', 'lady', 'she', 'wife', 'wives', 'daughter', 'daughters', 'sister', 'sisters', 'herself'\n",
    "]"
   ]
  },
  {
   "cell_type": "code",
   "execution_count": 18,
   "metadata": {},
   "outputs": [
    {
     "data": {
      "text/plain": [
       "2723"
      ]
     },
     "execution_count": 18,
     "metadata": {},
     "output_type": "execute_result"
    }
   ],
   "source": [
    "wordList = []\n",
    "bias = []\n",
    "for words in data:\n",
    "        if (data[words]['m']+data[words]['f'] > 10 ) and words not in BASIC_MALE_NOUNS + BASIC_FEMALE_NOUNS:\n",
    "            wordList.append(words)\n",
    "            bias.append(data[words]['m']/(data[words]['m']+data[words]['f']))\n",
    "len(bias)            "
   ]
  },
  {
   "cell_type": "code",
   "execution_count": 29,
   "metadata": {},
   "outputs": [
    {
     "data": {
      "text/plain": [
       "[('actresses', 0.0),\n",
       " ('commissioning', 0.0),\n",
       " ('gal', 0.0),\n",
       " ('horsemen', 0.0),\n",
       " ('chicks', 0.02040816326530612),\n",
       " ('eggs', 0.05),\n",
       " ('mothers', 0.05263157894736842),\n",
       " ('pregnancy', 0.05555555555555555),\n",
       " ('Aniston', 0.07142857142857142),\n",
       " ('Stefani', 0.07142857142857142),\n",
       " ('Dorothy', 0.07692307692307693),\n",
       " ('Barker', 0.08333333333333333),\n",
       " ('beautiful', 0.09090909090909091),\n",
       " ('witch', 0.09523809523809523),\n",
       " ('goddess', 0.1),\n",
       " ('Simone', 0.11538461538461539),\n",
       " ('Evita', 0.12),\n",
       " ('pregnant', 0.12),\n",
       " ('alien', 0.14285714285714285),\n",
       " ('rape', 0.14285714285714285),\n",
       " ('witches', 0.14285714285714285),\n",
       " ('damaged', 0.15151515151515152),\n",
       " ('Gwen', 0.15384615384615385),\n",
       " ('Katherine', 0.15384615384615385),\n",
       " ('Markgraf', 0.15384615384615385),\n",
       " ('Alice', 0.16),\n",
       " ('Beyoncé', 0.16666666666666666),\n",
       " ('Furtado', 0.16666666666666666),\n",
       " ('Pattycake', 0.16666666666666666),\n",
       " ('niece', 0.17142857142857143),\n",
       " ('Fleet', 0.18181818181818182),\n",
       " ('Halliwell', 0.18181818181818182),\n",
       " ('clothing', 0.18181818181818182),\n",
       " ('dancing', 0.18181818181818182),\n",
       " ('Geoff', 0.1875),\n",
       " ('Kyra', 0.1875),\n",
       " ('Fey', 0.1935483870967742),\n",
       " ('Isabella', 0.2),\n",
       " ('Rachel', 0.20588235294117646),\n",
       " ('badly', 0.21052631578947367),\n",
       " ('Maggie', 0.2222222222222222),\n",
       " ('Nicole', 0.23076923076923078),\n",
       " ('assisted', 0.23076923076923078),\n",
       " ('mom', 0.23076923076923078),\n",
       " ('wear', 0.23076923076923078),\n",
       " ('mother', 0.2446043165467626),\n",
       " ('She', 0.24907063197026022),\n",
       " ('baby', 0.25),\n",
       " ('collaborated', 0.25),\n",
       " ('singers', 0.25),\n",
       " ('Carey', 0.2553191489361702),\n",
       " ('nest', 0.25925925925925924),\n",
       " ('Robyn', 0.26666666666666666),\n",
       " ('Jackson', 0.2692307692307692),\n",
       " ('Aden', 0.2727272727272727),\n",
       " ('burning', 0.2727272727272727),\n",
       " ('chorus', 0.2727272727272727),\n",
       " ('coast', 0.2727272727272727),\n",
       " ('hits', 0.2727272727272727),\n",
       " ('Marilyn', 0.2857142857142857),\n",
       " ('lot', 0.2857142857142857),\n",
       " ('pop', 0.2857142857142857),\n",
       " ('artist', 0.2903225806451613),\n",
       " ('fired', 0.29411764705882354),\n",
       " ('MacLeod', 0.3),\n",
       " ('sound', 0.30434782608695654),\n",
       " ('Quinn', 0.3076923076923077),\n",
       " ('dress', 0.3076923076923077),\n",
       " ('soundtrack', 0.3076923076923077),\n",
       " ('Eva', 0.30952380952380953),\n",
       " ('beauty', 0.3125),\n",
       " ('miss', 0.3125),\n",
       " ('Jane', 0.3181818181818182),\n",
       " ('marry', 0.3181818181818182),\n",
       " ('leaves', 0.32),\n",
       " ('wedding', 0.32),\n",
       " ('mistress', 0.32142857142857145),\n",
       " ('Anne', 0.3333333333333333),\n",
       " ('Day', 0.3333333333333333),\n",
       " ('Emily', 0.3333333333333333),\n",
       " ('Margaret', 0.3333333333333333),\n",
       " ('Perón', 0.3333333333333333),\n",
       " ('artists', 0.3333333333333333),\n",
       " ('continues', 0.3333333333333333),\n",
       " ('independent', 0.3333333333333333),\n",
       " ('maiden', 0.3333333333333333),\n",
       " ('wasn', 0.3333333333333333),\n",
       " ('maternal', 0.3448275862068966),\n",
       " ('Mary', 0.3488372093023256),\n",
       " ('sex', 0.35),\n",
       " ('alive', 0.35294117647058826),\n",
       " ('dressed', 0.35294117647058826),\n",
       " ('Kilmer', 0.35714285714285715),\n",
       " ('surviving', 0.35714285714285715),\n",
       " ('guns', 0.36),\n",
       " (\"'re\", 0.36363636363636365),\n",
       " ('Kim', 0.36363636363636365),\n",
       " ('Marie', 0.36363636363636365),\n",
       " ('Rebbie', 0.36363636363636365),\n",
       " ('audiences', 0.36363636363636365),\n",
       " ('bearing', 0.36363636363636365),\n",
       " ('draft', 0.36363636363636365),\n",
       " ('invites', 0.36363636363636365),\n",
       " ('rescues', 0.36363636363636365),\n",
       " ('secondary', 0.36363636363636365),\n",
       " ('widowed', 0.36363636363636365),\n",
       " ('Her', 0.3684210526315789),\n",
       " ('Love', 0.37037037037037035),\n",
       " ('B', 0.375),\n",
       " ('Lisa', 0.375),\n",
       " ('Rhys', 0.375),\n",
       " ('apparently', 0.375),\n",
       " ('protagonist', 0.375),\n",
       " ('clothes', 0.38095238095238093),\n",
       " ('feeling', 0.38095238095238093),\n",
       " ('1915', 0.38461538461538464),\n",
       " ('Bracknell', 0.38461538461538464),\n",
       " ('Christmas', 0.38461538461538464),\n",
       " ('Meri', 0.38461538461538464),\n",
       " ('Mhalsa', 0.38461538461538464),\n",
       " ('departed', 0.38461538461538464),\n",
       " ('driving', 0.38461538461538464),\n",
       " ('exposed', 0.38461538461538464),\n",
       " ('lessons', 0.38461538461538464),\n",
       " ('quiet', 0.38461538461538464),\n",
       " ('Don', 0.3888888888888889),\n",
       " ('Rihanna', 0.391304347826087),\n",
       " ('Christine', 0.4),\n",
       " ('Dudley', 0.4),\n",
       " ('Navy', 0.4),\n",
       " ('commissioned', 0.4),\n",
       " ('ends', 0.4),\n",
       " ('population', 0.4),\n",
       " ('ratio', 0.4),\n",
       " ('sleep', 0.4),\n",
       " ('Carol', 0.4074074074074074),\n",
       " ('fun', 0.4117647058823529),\n",
       " ('romantic', 0.4117647058823529),\n",
       " ('African', 0.4166666666666667),\n",
       " ('Awards', 0.4166666666666667),\n",
       " ('Louise', 0.4166666666666667),\n",
       " ('Maria', 0.4166666666666667),\n",
       " ('Sil', 0.4166666666666667),\n",
       " ('album', 0.4166666666666667),\n",
       " ('audition', 0.4166666666666667),\n",
       " ('distant', 0.4166666666666667),\n",
       " ('model', 0.4166666666666667),\n",
       " ('offspring', 0.4166666666666667),\n",
       " ('ways', 0.4166666666666667),\n",
       " ('lover', 0.41935483870967744),\n",
       " ('Parvati', 0.42105263157894735),\n",
       " ('Duchess', 0.42857142857142855),\n",
       " ('Music', 0.42857142857142855),\n",
       " ('Street', 0.42857142857142855),\n",
       " ('divorce', 0.42857142857142855),\n",
       " ('prepare', 0.42857142857142855),\n",
       " ('sailed', 0.42857142857142855),\n",
       " ('sexuality', 0.42857142857142855),\n",
       " ('range', 0.43333333333333335),\n",
       " ('we', 0.43333333333333335),\n",
       " ('children', 0.43452380952380953),\n",
       " ('limited', 0.43478260869565216),\n",
       " ('couple', 0.4375),\n",
       " ('pulled', 0.4375),\n",
       " ('teenage', 0.4375),\n",
       " ('learns', 0.44),\n",
       " ('siblings', 0.44),\n",
       " ('quite', 0.4444444444444444),\n",
       " ('single', 0.4444444444444444),\n",
       " ('territory', 0.4444444444444444),\n",
       " ('moment', 0.45),\n",
       " ('relationships', 0.45),\n",
       " ('Fanny', 0.45454545454545453),\n",
       " ('HMS', 0.45454545454545453),\n",
       " ('Vandernoot', 0.45454545454545453),\n",
       " ('cases', 0.45454545454545453),\n",
       " ('damage', 0.45454545454545453),\n",
       " ('eye', 0.45454545454545453),\n",
       " ('stands', 0.45454545454545453),\n",
       " ('talking', 0.45454545454545453),\n",
       " ('teachers', 0.45454545454545453),\n",
       " ('treats', 0.45454545454545453),\n",
       " ('unaware', 0.45454545454545453),\n",
       " ('Fraser', 0.46153846153846156),\n",
       " ('Holy', 0.46153846153846156),\n",
       " ('Khandoba', 0.46153846153846156),\n",
       " ('Urania', 0.46153846153846156),\n",
       " ('east', 0.46153846153846156),\n",
       " ('persona', 0.46153846153846156),\n",
       " ('thinks', 0.4642857142857143),\n",
       " ('love', 0.46511627906976744),\n",
       " ('El', 0.4666666666666667),\n",
       " ('Lady', 0.4666666666666667),\n",
       " ('Rothschild', 0.4666666666666667),\n",
       " ('classical', 0.4666666666666667),\n",
       " ('influences', 0.4666666666666667),\n",
       " ('raise', 0.4666666666666667),\n",
       " ('sings', 0.4666666666666667),\n",
       " ('spirit', 0.4666666666666667),\n",
       " ('street', 0.4666666666666667)]"
      ]
     },
     "execution_count": 29,
     "metadata": {},
     "output_type": "execute_result"
    }
   ],
   "source": [
    "#len(wordList)\n",
    "bias,wordList  = zip(*sorted(zip(bias, wordList)))\n",
    "list(zip(wordList[0:200],bias[0:200]))"
   ]
  }
 ],
 "metadata": {
  "kernelspec": {
   "display_name": "Python 3",
   "language": "python",
   "name": "python3"
  },
  "language_info": {
   "codemirror_mode": {
    "name": "ipython",
    "version": 3
   },
   "file_extension": ".py",
   "mimetype": "text/x-python",
   "name": "python",
   "nbconvert_exporter": "python",
   "pygments_lexer": "ipython3",
   "version": "3.7.3"
  }
 },
 "nbformat": 4,
 "nbformat_minor": 2
}
