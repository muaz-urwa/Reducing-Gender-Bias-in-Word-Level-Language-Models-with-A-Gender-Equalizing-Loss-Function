{
 "cells": [
  {
   "cell_type": "code",
   "execution_count": 1,
   "metadata": {
    "collapsed": true
   },
   "outputs": [],
   "source": [
    "import os\n",
    "from io import open"
   ]
  },
  {
   "cell_type": "code",
   "execution_count": 2,
   "metadata": {
    "collapsed": true
   },
   "outputs": [],
   "source": [
    "# load doc into memory\n",
    "def load_doc(filename):\n",
    "    # open the file as read only\n",
    "    file = open(filename, 'r', encoding='utf-8-sig')\n",
    "    # read all text\n",
    "    text = file.read()\n",
    "    # close the file\n",
    "    file.close()\n",
    "    return text"
   ]
  },
  {
   "cell_type": "code",
   "execution_count": 3,
   "metadata": {
    "collapsed": true
   },
   "outputs": [],
   "source": [
    "def save_list(lines, filename):\n",
    "    data = '\\n'.join(lines)\n",
    "    file = open(filename, 'w',encoding='utf-8-sig')\n",
    "    file.write(data)\n",
    "    file.close()"
   ]
  },
  {
   "cell_type": "code",
   "execution_count": 4,
   "metadata": {
    "collapsed": true
   },
   "outputs": [],
   "source": [
    "def getUpper(word):\n",
    "    #print(word)\n",
    "    word = word[0].upper() + word[1:]\n",
    "    return word"
   ]
  },
  {
   "cell_type": "code",
   "execution_count": 5,
   "metadata": {
    "collapsed": true
   },
   "outputs": [],
   "source": [
    "femaleFile = './gender_words/female_word_file.txt'\n",
    "maleFile = './gender_words/male_word_file.txt'\n",
    "female_word_list = [w for w in load_doc(femaleFile).split('\\n') if len(w) > 0]\n",
    "male_word_list = [w for w in load_doc(maleFile).split('\\n') if len(w) > 0]"
   ]
  },
  {
   "cell_type": "code",
   "execution_count": 6,
   "metadata": {
    "collapsed": true
   },
   "outputs": [],
   "source": [
    "genderKeys = female_word_list + male_word_list\n",
    "genderValues = male_word_list + female_word_list\n",
    "genderKeys += [getUpper(w) for w in genderKeys]\n",
    "genderValues += [getUpper(w) for w in genderValues]\n",
    "genderDict = dict(zip(genderKeys,genderValues))"
   ]
  },
  {
   "cell_type": "code",
   "execution_count": 7,
   "metadata": {
    "collapsed": true
   },
   "outputs": [],
   "source": [
    "def flip(word):\n",
    "    if word in genderDict:\n",
    "        return genderDict[word]\n",
    "    else:\n",
    "        return word"
   ]
  },
  {
   "cell_type": "code",
   "execution_count": 8,
   "metadata": {},
   "outputs": [
    {
     "data": {
      "text/plain": [
       "'woman'"
      ]
     },
     "execution_count": 8,
     "metadata": {},
     "output_type": "execute_result"
    }
   ],
   "source": [
    "'pregnant'in genderDict\n",
    "#genderDict['pregnant']\n",
    "flip('man')"
   ]
  },
  {
   "cell_type": "code",
   "execution_count": 9,
   "metadata": {
    "collapsed": true
   },
   "outputs": [],
   "source": [
    "def flipList(wordList):\n",
    "    return [flip(w) for w in wordList]"
   ]
  },
  {
   "cell_type": "code",
   "execution_count": 11,
   "metadata": {},
   "outputs": [
    {
     "data": {
      "text/plain": [
       "['He', 'wakes', 'up', 'the', 'next', 'morning', 'heavily', 'pregnant', '.']"
      ]
     },
     "execution_count": 11,
     "metadata": {},
     "output_type": "execute_result"
    }
   ],
   "source": [
    "flipList('She wakes up the next morning heavily pregnant .'.split())"
   ]
  },
  {
   "cell_type": "code",
   "execution_count": 12,
   "metadata": {
    "collapsed": true
   },
   "outputs": [],
   "source": [
    "import glob\n",
    "\n",
    "input_dir = glob.glob(\"./data/sample_stories/*.story\")\n",
    "output_dir = './data/sample_stories_cda'\n",
    "if not os.path.isdir(output_dir):\n",
    "    os.makedirs(output_dir)\n",
    "i=1\n",
    "for f in input_dir:\n",
    "    with open(f, \"r\") as infile:\n",
    "        infile = infile.read()\n",
    "        sentences = []\n",
    "        for line in infile.split('\\n'):    \n",
    "            sentences.append(line.split())\n",
    "            \n",
    "        flippedLines = [flipList(l) for l in sentences]\n",
    "        totalLines = [' '.join(l) for l in flippedLines]\n",
    "            \n",
    "    outfile = os.path.join(output_dir,f.split('/')[-1][:-5] + str(i)+ '.txt') \n",
    "    \n",
    "    save_list(totalLines, outfile)\n",
    "    i+=1"
   ]
  }
 ],
 "metadata": {
  "kernelspec": {
   "display_name": "Python 3",
   "language": "python",
   "name": "python3"
  },
  "language_info": {
   "codemirror_mode": {
    "name": "ipython",
    "version": 3
   },
   "file_extension": ".py",
   "mimetype": "text/x-python",
   "name": "python",
   "nbconvert_exporter": "python",
   "pygments_lexer": "ipython3",
   "version": "3.6.8"
  }
 },
 "nbformat": 4,
 "nbformat_minor": 2
}
